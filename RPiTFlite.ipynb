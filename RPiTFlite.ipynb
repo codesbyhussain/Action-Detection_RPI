{
 "cells": [
  {
   "cell_type": "code",
   "execution_count": null,
   "id": "0f6d27b3",
   "metadata": {},
   "outputs": [],
   "source": [
    "import tflite_runtime.interpreter as tflite\n",
    "\n",
    "##Execute on laptop\n",
    "#Save the keras model after compiling\n",
    "model.save('model_keras.h5')\n",
    "model_keras= tf.keras.models.load_model('model_keras.h5')\n",
    "# Converting a tf.Keras model to a TensorFlow Lite model.\n",
    "converter = tf.lite.TFLiteConverter.from_keras_model(model_keras)\n",
    "tflite_model = converter.convert()\n",
    "\n",
    "\n",
    "##Exdecute on rpi\n",
    "# Load TFLite model and allocate tensors.\n",
    "interpreter = tf.lite.Interpreter(model_content=tflite_model)\n",
    "interpreter.allocate_tensors()\n",
    "#get input and output tensors\n",
    "input_details = interpreter.get_input_details()\n",
    "output_details = interpreter.get_output_details()\n",
    "# Read the image and decode to a tensor\n",
    "img = cv2.imread(image_path)\n",
    "img = cv2.resize(img,(WIDTH,HEIGHT))\n",
    "#Preprocess the image to required size and cast\n",
    "input_shape = input_details[0]['shape']\n",
    "input_tensor= np.array(np.expand_dims(img,0), dtype=np.float32)\n",
    "#set the tensor to point to the input data to be inferred\n",
    "input_index = interpreter.get_input_details()[0][\"index\"]\n",
    "interpreter.set_tensor(input_index, input_tensor)\n",
    "#Run the inference\n",
    "interpreter.invoke()\n",
    "output_details = interpreter.get_output_details()[0]"
   ]
  }
 ],
 "metadata": {
  "kernelspec": {
   "display_name": "Python 3 (ipykernel)",
   "language": "python",
   "name": "python3"
  },
  "language_info": {
   "codemirror_mode": {
    "name": "ipython",
    "version": 3
   },
   "file_extension": ".py",
   "mimetype": "text/x-python",
   "name": "python",
   "nbconvert_exporter": "python",
   "pygments_lexer": "ipython3",
   "version": "3.10.7"
  }
 },
 "nbformat": 4,
 "nbformat_minor": 5
}
